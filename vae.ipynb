{
 "cells": [
  {
   "cell_type": "markdown",
   "metadata": {},
   "source": [
    "# Variational Auto Encoder "
   ]
  },
  {
   "cell_type": "code",
   "execution_count": 1,
   "metadata": {},
   "outputs": [],
   "source": [
    "import torch \n",
    "import torch.nn as nn\n",
    "from torchvision.datasets import FashionMNIST\n",
    "from torch.optim import Adam,RMSprop\n",
    "from torch.nn import CrossEntropyLoss\n",
    "from torch.utils.data import DataLoader\n",
    "from torchvision.transforms import transforms"
   ]
  },
  {
   "cell_type": "code",
   "execution_count": 2,
   "metadata": {},
   "outputs": [],
   "source": [
    "data_path=\"/data\"\n",
    "transform=transforms.Compose([transforms.ToTensor()])\n",
    "train_data=FashionMNIST(root=data_path,train=True,transform=transform,download=True)\n",
    "test_data=FashionMNIST(root=data_path,train=False,transform=transform,download=True)"
   ]
  },
  {
   "cell_type": "code",
   "execution_count": 3,
   "metadata": {},
   "outputs": [],
   "source": [
    "BATCH_SIZE=16"
   ]
  },
  {
   "cell_type": "code",
   "execution_count": 4,
   "metadata": {},
   "outputs": [],
   "source": [
    "train_data_loader=DataLoader(train_data,batch_size=BATCH_SIZE,shuffle=True)\n",
    "test_data_loader=DataLoader(test_data,batch_size=BATCH_SIZE,shuffle=False)"
   ]
  },
  {
   "cell_type": "code",
   "execution_count": 5,
   "metadata": {},
   "outputs": [
    {
     "data": {
      "image/png": "[encoded data removed]",
      "text/plain": [
       "<Figure size 640x480 with 1 Axes>"
      ]
     },
     "metadata": {},
     "output_type": "display_data"
    }
   ],
   "source": [
    "from matplotlib import pyplot as plt\n",
    "for i in train_data_loader:\n",
    "    plt.imshow(i[0][0].squeeze())\n",
    "    plt.show()\n",
    "    # print(i[0].shape)\n",
    "    break"
   ]
  },
  {
   "cell_type": "code",
   "execution_count": 6,
   "metadata": {},
   "outputs": [],
   "source": [
    "# device=torch.device(\"cuda\" if torch.cuda.is_available() else \"cpu\")\n",
    "device=torch.device(\"cpu\")"
   ]
  },
  {
   "cell_type": "code",
   "execution_count": 16,
   "metadata": {},
   "outputs": [],
   "source": [
    "class Varational_Auto_Encoder(nn.Module):\n",
    "    def __init__(self,input_dim,hidden_dim,latent_dim):\n",
    "        super(Varational_Auto_Encoder,self).__init__()\n",
    "        self.input_dims=input_dim\n",
    "        self.hidden_dims=hidden_dim\n",
    "        self.latent_dim=latent_dim\n",
    "        self.mean=nn.Linear(self.hidden_dims,self.latent_dim)\n",
    "        self.log_var=nn.Linear(self.hidden_dims,self.latent_dim)\n",
    "        self.encoder=nn.Sequential(\n",
    "            nn.Linear(self.input_dims,self.hidden_dims),\n",
    "            nn.LeakyReLU(),\n",
    "            nn.Linear(self.hidden_dims,self.hidden_dims),\n",
    "            nn.LeakyReLU()\n",
    "        )\n",
    "        self.decoder=nn.Sequential(\n",
    "            nn.Linear(self.latent_dim,self.hidden_dims),\n",
    "            nn.LeakyReLU(),\n",
    "            nn.Linear(self.hidden_dims,self.hidden_dims),\n",
    "            nn.LeakyReLU(),\n",
    "            nn.Linear(self.hidden_dims,self.input_dims),\n",
    "            nn.Sigmoid()\n",
    "        )\n",
    "    def parameterized_mean_and_variance(self,data):\n",
    "        mean=self.mean(data)\n",
    "        log_var=self.log_var(data)\n",
    "        return mean,log_var\n",
    "    def encode(self,x):\n",
    "        x=self.encoder(x)\n",
    "        mean,log_var=self.parameterized_mean_and_variance(x)\n",
    "        return mean,log_var\n",
    "    def reparameterization(self,mean,log_var):\n",
    "        std_dev=torch.exp(0.5*log_var)\n",
    "        epsilon=torch.rand_like(std_dev)\n",
    "        return mean+std_dev*epsilon\n",
    "\n",
    "    \n",
    "    def decode(self,x):\n",
    "        return self.decoder(x)\n",
    "    \n",
    "    def forward(self,data):\n",
    "        mean,log_var=self.encode(data)\n",
    "        z=self.reparameterization(mean=mean,log_var=log_var)\n",
    "        out=self.decode(z)\n",
    "        return out,mean,log_var"
   ]
  },
  {
   "cell_type": "code",
   "execution_count": 17,
   "metadata": {},
   "outputs": [],
   "source": [
    "input_dim=784\n",
    "hidden_dim=20\n",
    "latent_dim=2\n",
    "vae=Varational_Auto_Encoder(input_dim=input_dim,hidden_dim=hidden_dim,latent_dim=latent_dim).to(device)"
   ]
  },
  {
   "cell_type": "code",
   "execution_count": 18,
   "metadata": {},
   "outputs": [],
   "source": [
    "optimizer=Adam(vae.parameters(),lr=0.02)"
   ]
  },
  {
   "cell_type": "code",
   "execution_count": 19,
   "metadata": {},
   "outputs": [],
   "source": [
    "def loss_function(x, x_hat, mean, log_var):\n",
    "    reproduction_loss = nn.functional.binary_cross_entropy(x_hat, x, reduction='sum')\n",
    "    KLD = - 0.5 * torch.sum(1+ log_var - mean.pow(2) - log_var.exp())\n",
    "\n",
    "    return reproduction_loss + KLD"
   ]
  },
  {
   "cell_type": "code",
   "execution_count": 20,
   "metadata": {},
   "outputs": [
    {
     "data": {
      "text/plain": [
       "device(type='cpu')"
      ]
     },
     "execution_count": 20,
     "metadata": {},
     "output_type": "execute_result"
    }
   ],
   "source": [
    "device"
   ]
  },
  {
   "cell_type": "code",
   "execution_count": 21,
   "metadata": {},
   "outputs": [
    {
     "name": "stdout",
     "output_type": "stream",
     "text": [
      "\tEpoch 1 \tAverage Loss:  7.727191379147232\n",
      "\tEpoch 2 \tAverage Loss:  6.584166126907523\n",
      "\tEpoch 3 \tAverage Loss:  6.600057090622929\n",
      "\tEpoch 4 \tAverage Loss:  6.58565979087852\n",
      "\tEpoch 5 \tAverage Loss:  6.5823409125530805\n",
      "\tEpoch 6 \tAverage Loss:  6.5804461735857425\n",
      "\tEpoch 7 \tAverage Loss:  6.578193108855517\n",
      "\tEpoch 8 \tAverage Loss:  7.676661169983667\n",
      "\tEpoch 9 \tAverage Loss:  6.589251856321842\n",
      "\tEpoch 10 \tAverage Loss:  6.579214144528914\n"
     ]
    },
    {
     "data": {
      "text/plain": [
       "394647.58124542236"
      ]
     },
     "execution_count": 21,
     "metadata": {},
     "output_type": "execute_result"
    }
   ],
   "source": [
    "def train(model, optimizer, epochs, device,x_dim=784):\n",
    "    model.train()\n",
    "    for epoch in range(epochs):\n",
    "        overall_loss = 0\n",
    "        for batch_idx, (x, _) in enumerate(train_data_loader):\n",
    "            x = x.view(BATCH_SIZE, x_dim)\n",
    "            x=x/255.0\n",
    "            optimizer.zero_grad()\n",
    "\n",
    "            x_hat, mean, log_var = model(x)\n",
    "            loss = loss_function(x, x_hat, mean, log_var)\n",
    "            \n",
    "            overall_loss += loss.item()\n",
    "            \n",
    "            loss.backward()\n",
    "            optimizer.step()\n",
    "\n",
    "        print(\"\\tEpoch\", epoch + 1, \"\\tAverage Loss: \", overall_loss/(batch_idx*BATCH_SIZE))\n",
    "    return overall_loss\n",
    "\n",
    "train(vae, optimizer, epochs=10, device=device)"
   ]
  },
  {
   "cell_type": "code",
   "execution_count": 32,
   "metadata": {},
   "outputs": [
    {
     "data": {
      "image/png": "[encoded data removed]",
      "text/plain": [
       "<Figure size 640x480 with 1 Axes>"
      ]
     },
     "metadata": {},
     "output_type": "display_data"
    }
   ],
   "source": [
    "def generate_digit(mean, var):\n",
    "    z_sample = torch.tensor([[mean, var]], dtype=torch.float).to(device)\n",
    "    x_decoded = vae.decode(z_sample)\n",
    "    digit = x_decoded.detach().cpu().reshape(28, 28) # reshape vector to 2d array\n",
    "    plt.imshow(digit, cmap='gray')\n",
    "    plt.axis('off')\n",
    "    plt.show()\n",
    "\n",
    "generate_digit(0.2, 3.0)\n",
    "# generate_digit(1.0,1.0)"
   ]
  },
  {
   "cell_type": "code",
   "execution_count": null,
   "metadata": {},
   "outputs": [],
   "source": []
  }
 ],
 "metadata": {
  "kernelspec": {
   "display_name": "Python 3",
   "language": "python",
   "name": "python3"
  },
  "language_info": {
   "codemirror_mode": {
    "name": "ipython",
    "version": 3
   },
   "file_extension": ".py",
   "mimetype": "text/x-python",
   "name": "python",
   "nbconvert_exporter": "python",
   "pygments_lexer": "ipython3",
   "version": "3.11.3"
  }
 },
 "nbformat": 4,
 "nbformat_minor": 2
}
